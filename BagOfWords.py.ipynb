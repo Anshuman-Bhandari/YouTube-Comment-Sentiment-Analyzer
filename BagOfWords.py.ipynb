{
 "cells": [
  {
   "cell_type": "code",
   "execution_count": 1,
   "id": "94c0b22a",
   "metadata": {},
   "outputs": [],
   "source": [
    "import nltk \n",
    "               \n",
    "# Cleaning the texts\n",
    "import re\n",
    "from nltk.corpus import stopwords\n",
    "from nltk.stem.porter import PorterStemmer\n",
    "from nltk.stem import WordNetLemmatizer\n"
   ]
  },
  {
   "cell_type": "code",
   "execution_count": 2,
   "id": "383e2f82",
   "metadata": {},
   "outputs": [],
   "source": [
    "paragraph =  \"\"\"Coronavirus disease 2019 (COVID-19) is a contagious disease caused by the coronavirus SARS-CoV-2.\n",
    "The first known case was identified in Wuhan, China, in December 2019.\n",
    "[7] The disease quickly spread worldwide, resulting in the ongoing COVID-19 pandemic.\n",
    "The symptoms of COVID‑19 are variable but often include fever,[8] fatigue, cough,\n",
    "breathing difficulties, loss of smell, and loss of taste.[9][10][11] \n",
    "Symptoms may begin one to fourteen days after exposure to the virus. \n",
    "At least a third of people who are infected do not develop noticeable symptoms.\n",
    "[12][13] Of those who develop symptoms noticeable enough to be classified as patients, \n",
    "most (81%) develop mild to moderate symptoms (up to mild pneumonia), \n",
    "while 14% develop severe symptoms (dyspnea, hypoxia, or more than 50% lung involvement on imaging),\n",
    " and 5% develop critical symptoms (respiratory failure, shock, or multiorgan dysfunction).\n",
    " [14] Older people are at a higher risk of developing severe symptoms. \n",
    " Some complications result in death. Some people continue to experience a range of effects \n",
    " (long COVID) for months or years after infection, and damage to organs has been observed.\n",
    " [15] Multi-year studies are underway to further investigate the long-term effects of the disease.\n",
    "[16]\n",
    "COVID‑19 transmission occurs when infectious particles are breathed in or come into contact \n",
    "with the eyes, nose, or mouth. The risk is highest when people are in close proximity, \n",
    "but small airborne particles containing the virus can remain suspended in the air and travel \n",
    "over longer distances, particularly indoors. Transmission can also occur when people touch \n",
    "their eyes, nose or mouth after touching surfaces or objects that have been contaminated by \n",
    "the virus. People remain contagious for up to 20 days and can spread the virus even if they \n",
    "do not develop symptoms.[17]\n",
    "Testing methods for COVID-19 to detect the virus's nucleic acid include real-time reverse \n",
    "transcription polymerase chain reaction (RT‑PCR),[18][19] transcription-mediated amplification,\n",
    "[18][19][20] and reverse transcription loop-mediated isothermal amplification (RT‑LAMP)[18][19] \n",
    "from a nasopharyngeal swab.[21]\n",
    "Several COVID-19 vaccines have been approved and distributed in various countries, \n",
    "many of which have initiated mass vaccination campaigns. Other preventive measures \n",
    "include physical or social distancing, quarantining, ventilation of indoor spaces, \n",
    "use of face masks or coverings in public, covering coughs and sneezes, hand washing, \n",
    "and keeping unwashed hands away from the face. While drugs have been developed to inhibit \n",
    "the virus, the primary treatment is still symptomatic, managing the disease through supportive \n",
    "care, isolation, and experimental measures.\"\"\"\n",
    "\n",
    "\n",
    "#ps = PorterStemmer()\n",
    "wordnet=WordNetLemmatizer()\n",
    "sentences = nltk.sent_tokenize(paragraph)\n",
    "corpus = []"
   ]
  },
  {
   "cell_type": "code",
   "execution_count": 3,
   "id": "cf1dcf69",
   "metadata": {},
   "outputs": [
    {
     "data": {
      "text/plain": [
       "['Coronavirus disease 2019 (COVID-19) is a contagious disease caused by the coronavirus SARS-CoV-2.',\n",
       " 'The first known case was identified in Wuhan, China, in December 2019.',\n",
       " '[7] The disease quickly spread worldwide, resulting in the ongoing COVID-19 pandemic.',\n",
       " 'The symptoms of COVID‑19 are variable but often include fever,[8] fatigue, cough,\\nbreathing difficulties, loss of smell, and loss of taste.',\n",
       " '[9][10][11] \\nSymptoms may begin one to fourteen days after exposure to the virus.',\n",
       " 'At least a third of people who are infected do not develop noticeable symptoms.',\n",
       " '[12][13] Of those who develop symptoms noticeable enough to be classified as patients, \\nmost (81%) develop mild to moderate symptoms (up to mild pneumonia), \\nwhile 14% develop severe symptoms (dyspnea, hypoxia, or more than 50% lung involvement on imaging),\\n and 5% develop critical symptoms (respiratory failure, shock, or multiorgan dysfunction).',\n",
       " '[14] Older people are at a higher risk of developing severe symptoms.',\n",
       " 'Some complications result in death.',\n",
       " 'Some people continue to experience a range of effects \\n (long COVID) for months or years after infection, and damage to organs has been observed.',\n",
       " '[15] Multi-year studies are underway to further investigate the long-term effects of the disease.',\n",
       " '[16]\\nCOVID‑19 transmission occurs when infectious particles are breathed in or come into contact \\nwith the eyes, nose, or mouth.',\n",
       " 'The risk is highest when people are in close proximity, \\nbut small airborne particles containing the virus can remain suspended in the air and travel \\nover longer distances, particularly indoors.',\n",
       " 'Transmission can also occur when people touch \\ntheir eyes, nose or mouth after touching surfaces or objects that have been contaminated by \\nthe virus.',\n",
       " 'People remain contagious for up to 20 days and can spread the virus even if they \\ndo not develop symptoms.',\n",
       " \"[17]\\nTesting methods for COVID-19 to detect the virus's nucleic acid include real-time reverse \\ntranscription polymerase chain reaction (RT‑PCR),[18][19] transcription-mediated amplification,\\n[18][19][20] and reverse transcription loop-mediated isothermal amplification (RT‑LAMP)[18][19] \\nfrom a nasopharyngeal swab.\",\n",
       " '[21]\\nSeveral COVID-19 vaccines have been approved and distributed in various countries, \\nmany of which have initiated mass vaccination campaigns.',\n",
       " 'Other preventive measures \\ninclude physical or social distancing, quarantining, ventilation of indoor spaces, \\nuse of face masks or coverings in public, covering coughs and sneezes, hand washing, \\nand keeping unwashed hands away from the face.',\n",
       " 'While drugs have been developed to inhibit \\nthe virus, the primary treatment is still symptomatic, managing the disease through supportive \\ncare, isolation, and experimental measures.']"
      ]
     },
     "execution_count": 3,
     "metadata": {},
     "output_type": "execute_result"
    }
   ],
   "source": [
    "sentences"
   ]
  },
  {
   "cell_type": "code",
   "execution_count": 4,
   "id": "4a2e7f36",
   "metadata": {},
   "outputs": [],
   "source": [
    "for i in range(len(sentences)):\n",
    "    review = re.sub('[^a-zA-Z]', ' ', sentences[i])\n",
    "    review = review.lower()\n",
    "    review = review.split()\n",
    "    review = [wordnet.lemmatize(word) for word in review if not word in set(stopwords.words('english'))]\n",
    "    review = ' '.join(review)\n",
    "    corpus.append(review)\n"
   ]
  },
  {
   "cell_type": "code",
   "execution_count": 5,
   "id": "55f044b7",
   "metadata": {},
   "outputs": [
    {
     "data": {
      "text/plain": [
       "['coronavirus disease covid contagious disease caused coronavirus sars cov',\n",
       " 'first known case identified wuhan china december',\n",
       " 'disease quickly spread worldwide resulting ongoing covid pandemic',\n",
       " 'symptom covid variable often include fever fatigue cough breathing difficulty loss smell loss taste',\n",
       " 'symptom may begin one fourteen day exposure virus',\n",
       " 'least third people infected develop noticeable symptom',\n",
       " 'develop symptom noticeable enough classified patient develop mild moderate symptom mild pneumonia develop severe symptom dyspnea hypoxia lung involvement imaging develop critical symptom respiratory failure shock multiorgan dysfunction',\n",
       " 'older people higher risk developing severe symptom',\n",
       " 'complication result death',\n",
       " 'people continue experience range effect long covid month year infection damage organ observed',\n",
       " 'multi year study underway investigate long term effect disease',\n",
       " 'covid transmission occurs infectious particle breathed come contact eye nose mouth',\n",
       " 'risk highest people close proximity small airborne particle containing virus remain suspended air travel longer distance particularly indoors',\n",
       " 'transmission also occur people touch eye nose mouth touching surface object contaminated virus',\n",
       " 'people remain contagious day spread virus even develop symptom',\n",
       " 'testing method covid detect virus nucleic acid include real time reverse transcription polymerase chain reaction rt pcr transcription mediated amplification reverse transcription loop mediated isothermal amplification rt lamp nasopharyngeal swab',\n",
       " 'several covid vaccine approved distributed various country many initiated mass vaccination campaign',\n",
       " 'preventive measure include physical social distancing quarantining ventilation indoor space use face mask covering public covering cough sneeze hand washing keeping unwashed hand away face',\n",
       " 'drug developed inhibit virus primary treatment still symptomatic managing disease supportive care isolation experimental measure']"
      ]
     },
     "execution_count": 5,
     "metadata": {},
     "output_type": "execute_result"
    }
   ],
   "source": [
    "corpus"
   ]
  },
  {
   "cell_type": "code",
   "execution_count": 6,
   "id": "4ab98eef",
   "metadata": {},
   "outputs": [],
   "source": [
    "# Creating the Bag of Words model\n",
    "from sklearn.feature_extraction.text import CountVectorizer\n",
    "cv = CountVectorizer()\n",
    "X = cv.fit_transform(corpus).toarray()"
   ]
  },
  {
   "cell_type": "code",
   "execution_count": 9,
   "id": "2535d910",
   "metadata": {},
   "outputs": [
    {
     "data": {
      "text/plain": [
       "array([[0, 0, 0, ..., 0, 0, 0],\n",
       "       [0, 0, 0, ..., 0, 1, 0],\n",
       "       [0, 0, 0, ..., 1, 0, 0],\n",
       "       ...,\n",
       "       [0, 0, 0, ..., 0, 0, 0],\n",
       "       [0, 0, 0, ..., 0, 0, 0],\n",
       "       [0, 0, 0, ..., 0, 0, 0]])"
      ]
     },
     "execution_count": 9,
     "metadata": {},
     "output_type": "execute_result"
    }
   ],
   "source": [
    "X"
   ]
  },
  {
   "cell_type": "code",
   "execution_count": null,
   "id": "c589f920",
   "metadata": {},
   "outputs": [],
   "source": []
  }
 ],
 "metadata": {
  "kernelspec": {
   "display_name": "Python 3 (ipykernel)",
   "language": "python",
   "name": "python3"
  },
  "language_info": {
   "codemirror_mode": {
    "name": "ipython",
    "version": 3
   },
   "file_extension": ".py",
   "mimetype": "text/x-python",
   "name": "python",
   "nbconvert_exporter": "python",
   "pygments_lexer": "ipython3",
   "version": "3.8.0"
  }
 },
 "nbformat": 4,
 "nbformat_minor": 5
}
